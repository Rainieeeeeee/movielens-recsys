{
 "cells": [
  {
   "cell_type": "code",
   "execution_count": 2,
   "id": "1ea6ed1a-6005-48d2-b52e-3d91e9533811",
   "metadata": {},
   "outputs": [
    {
     "name": "stdout",
     "output_type": "stream",
     "text": [
      "用户-物品评分表：\n",
      "   user item  rating\n",
      "0     1    A       5\n",
      "1     1    B       3\n",
      "2     2    A       4\n",
      "3     2    C       2\n",
      "4     2    D       5\n",
      "5     3    B       4\n",
      "6     3    D       3\n",
      "7     4    C       5\n",
      "\n",
      "物品受欢迎度：\n",
      "item\n",
      "A    9\n",
      "D    8\n",
      "B    7\n",
      "C    7\n",
      "Name: rating, dtype: int64\n",
      "\n",
      "推荐结果（Top-3 最受欢迎）： ['A', 'D', 'B']\n"
     ]
    }
   ],
   "source": [
    "import pandas as pd\n",
    "\n",
    "# 构造一个小的用户-物品评分表 (user-item matrix)\n",
    "data = {\n",
    "    \"user\": [1, 1, 2, 2, 2, 3, 3, 4],\n",
    "    \"item\": [\"A\", \"B\", \"A\", \"C\", \"D\", \"B\", \"D\", \"C\"],\n",
    "    \"rating\": [5, 3, 4, 2, 5, 4, 3, 5]\n",
    "}\n",
    "df = pd.DataFrame(data)\n",
    "\n",
    "print(\"用户-物品评分表：\")\n",
    "print(df)\n",
    "\n",
    "# 统计每个物品的总评分，作为“受欢迎度”\n",
    "popularity = df.groupby(\"item\")[\"rating\"].sum().sort_values(ascending=False)\n",
    "\n",
    "print(\"\\n物品受欢迎度：\")\n",
    "print(popularity)\n",
    "\n",
    "# 推荐 top-3 最受欢迎的物品\n",
    "top_k = popularity.head(3).index.tolist()\n",
    "print(\"\\n推荐结果（Top-3 最受欢迎）：\", top_k)"
   ]
  },
  {
   "cell_type": "code",
   "execution_count": null,
   "id": "5f9f3dc6-f5a2-4984-b8bf-d8491ded7760",
   "metadata": {},
   "outputs": [],
   "source": []
  }
 ],
 "metadata": {
  "kernelspec": {
   "display_name": "Python (recsys)",
   "language": "python",
   "name": "recsys"
  },
  "language_info": {
   "codemirror_mode": {
    "name": "ipython",
    "version": 3
   },
   "file_extension": ".py",
   "mimetype": "text/x-python",
   "name": "python",
   "nbconvert_exporter": "python",
   "pygments_lexer": "ipython3",
   "version": "3.10.18"
  }
 },
 "nbformat": 4,
 "nbformat_minor": 5
}
