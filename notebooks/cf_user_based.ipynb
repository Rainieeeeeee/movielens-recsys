{
 "cells": [
  {
   "cell_type": "code",
   "execution_count": 1,
   "id": "633b6b1f-27bd-4136-870e-90fa31baae5e",
   "metadata": {},
   "outputs": [],
   "source": [
    "import pandas as pd"
   ]
  },
  {
   "cell_type": "code",
   "execution_count": 2,
   "id": "59b70de1-eb0e-4d21-afc4-cd1ccfd38085",
   "metadata": {},
   "outputs": [],
   "source": [
    "import numpy as np"
   ]
  },
  {
   "cell_type": "code",
   "execution_count": 3,
   "id": "73b33691-9594-4bcc-be16-2ac10b8525fd",
   "metadata": {},
   "outputs": [],
   "source": [
    "from sklearn.metrics.pairwise import cosine_similarity"
   ]
  },
  {
   "cell_type": "code",
   "execution_count": null,
   "id": "a70cbf5f-d907-42ff-be69-643a6ac15c6f",
   "metadata": {},
   "outputs": [],
   "source": []
  },
  {
   "cell_type": "code",
   "execution_count": 4,
   "id": "d99fd76a-c250-45af-ba7b-00deea45bb7e",
   "metadata": {},
   "outputs": [],
   "source": [
    "ratings = pd.read_csv(\"../data/ml-1m/ratings.dat\", \n",
    "                      sep=\"::\", engine=\"python\",\n",
    "                      names=[\"userId\", \"movieId\", \"rating\", \"timestamp\"])"
   ]
  },
  {
   "cell_type": "code",
   "execution_count": 5,
   "id": "cd23d099-17a2-4b05-aeef-28c2f919add7",
   "metadata": {},
   "outputs": [],
   "source": [
    "movies = pd.read_csv(\"../data/ml-1m/movies.dat\", \n",
    "                     sep=\"::\", engine=\"python\",\n",
    "                     names=[\"movieId\", \"title\", \"genres\"],\n",
    "                     encoding=\"latin-1\")"
   ]
  },
  {
   "cell_type": "code",
   "execution_count": 6,
   "id": "162321dd-ed85-4928-a8b9-0fb73395e939",
   "metadata": {},
   "outputs": [],
   "source": [
    "#生成用户-物品评分矩阵"
   ]
  },
  {
   "cell_type": "code",
   "execution_count": 7,
   "id": "6123bf6e-e61a-4e4d-bac8-38ed30f9a04c",
   "metadata": {},
   "outputs": [],
   "source": [
    "user_item = ratings.pivot_table(index = \"userId\", columns = \"movieId\",values = \"rating\")"
   ]
  },
  {
   "cell_type": "code",
   "execution_count": 8,
   "id": "b68b63d7-1d47-45ee-86c5-18dceba407bb",
   "metadata": {},
   "outputs": [
    {
     "name": "stdout",
     "output_type": "stream",
     "text": [
      "User-item matrix shape: (6040, 3706)\n"
     ]
    },
    {
     "data": {
      "text/html": [
       "<div>\n",
       "<style scoped>\n",
       "    .dataframe tbody tr th:only-of-type {\n",
       "        vertical-align: middle;\n",
       "    }\n",
       "\n",
       "    .dataframe tbody tr th {\n",
       "        vertical-align: top;\n",
       "    }\n",
       "\n",
       "    .dataframe thead th {\n",
       "        text-align: right;\n",
       "    }\n",
       "</style>\n",
       "<table border=\"1\" class=\"dataframe\">\n",
       "  <thead>\n",
       "    <tr style=\"text-align: right;\">\n",
       "      <th>movieId</th>\n",
       "      <th>1</th>\n",
       "      <th>2</th>\n",
       "      <th>3</th>\n",
       "      <th>4</th>\n",
       "      <th>5</th>\n",
       "      <th>6</th>\n",
       "      <th>7</th>\n",
       "      <th>8</th>\n",
       "      <th>9</th>\n",
       "      <th>10</th>\n",
       "      <th>...</th>\n",
       "      <th>3943</th>\n",
       "      <th>3944</th>\n",
       "      <th>3945</th>\n",
       "      <th>3946</th>\n",
       "      <th>3947</th>\n",
       "      <th>3948</th>\n",
       "      <th>3949</th>\n",
       "      <th>3950</th>\n",
       "      <th>3951</th>\n",
       "      <th>3952</th>\n",
       "    </tr>\n",
       "    <tr>\n",
       "      <th>userId</th>\n",
       "      <th></th>\n",
       "      <th></th>\n",
       "      <th></th>\n",
       "      <th></th>\n",
       "      <th></th>\n",
       "      <th></th>\n",
       "      <th></th>\n",
       "      <th></th>\n",
       "      <th></th>\n",
       "      <th></th>\n",
       "      <th></th>\n",
       "      <th></th>\n",
       "      <th></th>\n",
       "      <th></th>\n",
       "      <th></th>\n",
       "      <th></th>\n",
       "      <th></th>\n",
       "      <th></th>\n",
       "      <th></th>\n",
       "      <th></th>\n",
       "      <th></th>\n",
       "    </tr>\n",
       "  </thead>\n",
       "  <tbody>\n",
       "    <tr>\n",
       "      <th>1</th>\n",
       "      <td>5.0</td>\n",
       "      <td>NaN</td>\n",
       "      <td>NaN</td>\n",
       "      <td>NaN</td>\n",
       "      <td>NaN</td>\n",
       "      <td>NaN</td>\n",
       "      <td>NaN</td>\n",
       "      <td>NaN</td>\n",
       "      <td>NaN</td>\n",
       "      <td>NaN</td>\n",
       "      <td>...</td>\n",
       "      <td>NaN</td>\n",
       "      <td>NaN</td>\n",
       "      <td>NaN</td>\n",
       "      <td>NaN</td>\n",
       "      <td>NaN</td>\n",
       "      <td>NaN</td>\n",
       "      <td>NaN</td>\n",
       "      <td>NaN</td>\n",
       "      <td>NaN</td>\n",
       "      <td>NaN</td>\n",
       "    </tr>\n",
       "    <tr>\n",
       "      <th>2</th>\n",
       "      <td>NaN</td>\n",
       "      <td>NaN</td>\n",
       "      <td>NaN</td>\n",
       "      <td>NaN</td>\n",
       "      <td>NaN</td>\n",
       "      <td>NaN</td>\n",
       "      <td>NaN</td>\n",
       "      <td>NaN</td>\n",
       "      <td>NaN</td>\n",
       "      <td>NaN</td>\n",
       "      <td>...</td>\n",
       "      <td>NaN</td>\n",
       "      <td>NaN</td>\n",
       "      <td>NaN</td>\n",
       "      <td>NaN</td>\n",
       "      <td>NaN</td>\n",
       "      <td>NaN</td>\n",
       "      <td>NaN</td>\n",
       "      <td>NaN</td>\n",
       "      <td>NaN</td>\n",
       "      <td>NaN</td>\n",
       "    </tr>\n",
       "    <tr>\n",
       "      <th>3</th>\n",
       "      <td>NaN</td>\n",
       "      <td>NaN</td>\n",
       "      <td>NaN</td>\n",
       "      <td>NaN</td>\n",
       "      <td>NaN</td>\n",
       "      <td>NaN</td>\n",
       "      <td>NaN</td>\n",
       "      <td>NaN</td>\n",
       "      <td>NaN</td>\n",
       "      <td>NaN</td>\n",
       "      <td>...</td>\n",
       "      <td>NaN</td>\n",
       "      <td>NaN</td>\n",
       "      <td>NaN</td>\n",
       "      <td>NaN</td>\n",
       "      <td>NaN</td>\n",
       "      <td>NaN</td>\n",
       "      <td>NaN</td>\n",
       "      <td>NaN</td>\n",
       "      <td>NaN</td>\n",
       "      <td>NaN</td>\n",
       "    </tr>\n",
       "    <tr>\n",
       "      <th>4</th>\n",
       "      <td>NaN</td>\n",
       "      <td>NaN</td>\n",
       "      <td>NaN</td>\n",
       "      <td>NaN</td>\n",
       "      <td>NaN</td>\n",
       "      <td>NaN</td>\n",
       "      <td>NaN</td>\n",
       "      <td>NaN</td>\n",
       "      <td>NaN</td>\n",
       "      <td>NaN</td>\n",
       "      <td>...</td>\n",
       "      <td>NaN</td>\n",
       "      <td>NaN</td>\n",
       "      <td>NaN</td>\n",
       "      <td>NaN</td>\n",
       "      <td>NaN</td>\n",
       "      <td>NaN</td>\n",
       "      <td>NaN</td>\n",
       "      <td>NaN</td>\n",
       "      <td>NaN</td>\n",
       "      <td>NaN</td>\n",
       "    </tr>\n",
       "    <tr>\n",
       "      <th>5</th>\n",
       "      <td>NaN</td>\n",
       "      <td>NaN</td>\n",
       "      <td>NaN</td>\n",
       "      <td>NaN</td>\n",
       "      <td>NaN</td>\n",
       "      <td>2.0</td>\n",
       "      <td>NaN</td>\n",
       "      <td>NaN</td>\n",
       "      <td>NaN</td>\n",
       "      <td>NaN</td>\n",
       "      <td>...</td>\n",
       "      <td>NaN</td>\n",
       "      <td>NaN</td>\n",
       "      <td>NaN</td>\n",
       "      <td>NaN</td>\n",
       "      <td>NaN</td>\n",
       "      <td>NaN</td>\n",
       "      <td>NaN</td>\n",
       "      <td>NaN</td>\n",
       "      <td>NaN</td>\n",
       "      <td>NaN</td>\n",
       "    </tr>\n",
       "  </tbody>\n",
       "</table>\n",
       "<p>5 rows × 3706 columns</p>\n",
       "</div>"
      ],
      "text/plain": [
       "movieId  1     2     3     4     5     6     7     8     9     10    ...  \\\n",
       "userId                                                               ...   \n",
       "1         5.0   NaN   NaN   NaN   NaN   NaN   NaN   NaN   NaN   NaN  ...   \n",
       "2         NaN   NaN   NaN   NaN   NaN   NaN   NaN   NaN   NaN   NaN  ...   \n",
       "3         NaN   NaN   NaN   NaN   NaN   NaN   NaN   NaN   NaN   NaN  ...   \n",
       "4         NaN   NaN   NaN   NaN   NaN   NaN   NaN   NaN   NaN   NaN  ...   \n",
       "5         NaN   NaN   NaN   NaN   NaN   2.0   NaN   NaN   NaN   NaN  ...   \n",
       "\n",
       "movieId  3943  3944  3945  3946  3947  3948  3949  3950  3951  3952  \n",
       "userId                                                               \n",
       "1         NaN   NaN   NaN   NaN   NaN   NaN   NaN   NaN   NaN   NaN  \n",
       "2         NaN   NaN   NaN   NaN   NaN   NaN   NaN   NaN   NaN   NaN  \n",
       "3         NaN   NaN   NaN   NaN   NaN   NaN   NaN   NaN   NaN   NaN  \n",
       "4         NaN   NaN   NaN   NaN   NaN   NaN   NaN   NaN   NaN   NaN  \n",
       "5         NaN   NaN   NaN   NaN   NaN   NaN   NaN   NaN   NaN   NaN  \n",
       "\n",
       "[5 rows x 3706 columns]"
      ]
     },
     "execution_count": 8,
     "metadata": {},
     "output_type": "execute_result"
    }
   ],
   "source": [
    "print(\"User-item matrix shape:\", user_item.shape)\n",
    "user_item.head()"
   ]
  },
  {
   "cell_type": "code",
   "execution_count": null,
   "id": "419c9004-ffe8-4cb3-9e34-c81702e2230d",
   "metadata": {},
   "outputs": [],
   "source": []
  },
  {
   "cell_type": "code",
   "execution_count": null,
   "id": "9a61ff95-144f-4e6f-a23a-bc72c275aa0d",
   "metadata": {},
   "outputs": [],
   "source": [
    "# 计算用户相似度矩阵（cosine）"
   ]
  },
  {
   "cell_type": "code",
   "execution_count": 9,
   "id": "c177580d-f236-4eea-8dfa-c57bd6a0c5e4",
   "metadata": {},
   "outputs": [],
   "source": [
    "user_item_filled = user_item.fillna(0)"
   ]
  },
  {
   "cell_type": "code",
   "execution_count": 10,
   "id": "f059c67f-6337-4b25-ba44-5a52fd61afe7",
   "metadata": {},
   "outputs": [],
   "source": [
    "#使用sklearn的consine_similarity计算用户之间的相似度"
   ]
  },
  {
   "cell_type": "code",
   "execution_count": 14,
   "id": "274cf121-a166-46de-b365-d94f7e561439",
   "metadata": {},
   "outputs": [],
   "source": [
    "user_sim = cosine_similarity(user_item_filled)"
   ]
  },
  {
   "cell_type": "code",
   "execution_count": 15,
   "id": "d09597ef-0e27-44a7-8d0c-73cc4e63c947",
   "metadata": {},
   "outputs": [],
   "source": [
    "#转化为dataframe 行列都是userid"
   ]
  },
  {
   "cell_type": "code",
   "execution_count": 16,
   "id": "ffe205a4-f5f1-414b-adc0-e11e233a8b57",
   "metadata": {},
   "outputs": [],
   "source": [
    "user_sim_df = pd.DataFrame(user_sim,index=user_item.index,columns=user_item.index)"
   ]
  },
  {
   "cell_type": "code",
   "execution_count": 18,
   "id": "c632b616-3d02-4f4e-af2b-9cc0f8a9c89c",
   "metadata": {},
   "outputs": [
    {
     "name": "stdout",
     "output_type": "stream",
     "text": [
      "User similarity matrix shape: (6040, 6040)\n"
     ]
    },
    {
     "data": {
      "text/html": [
       "<div>\n",
       "<style scoped>\n",
       "    .dataframe tbody tr th:only-of-type {\n",
       "        vertical-align: middle;\n",
       "    }\n",
       "\n",
       "    .dataframe tbody tr th {\n",
       "        vertical-align: top;\n",
       "    }\n",
       "\n",
       "    .dataframe thead th {\n",
       "        text-align: right;\n",
       "    }\n",
       "</style>\n",
       "<table border=\"1\" class=\"dataframe\">\n",
       "  <thead>\n",
       "    <tr style=\"text-align: right;\">\n",
       "      <th>userId</th>\n",
       "      <th>1</th>\n",
       "      <th>2</th>\n",
       "      <th>3</th>\n",
       "      <th>4</th>\n",
       "      <th>5</th>\n",
       "    </tr>\n",
       "    <tr>\n",
       "      <th>userId</th>\n",
       "      <th></th>\n",
       "      <th></th>\n",
       "      <th></th>\n",
       "      <th></th>\n",
       "      <th></th>\n",
       "    </tr>\n",
       "  </thead>\n",
       "  <tbody>\n",
       "    <tr>\n",
       "      <th>1</th>\n",
       "      <td>1.000000</td>\n",
       "      <td>0.096382</td>\n",
       "      <td>0.120610</td>\n",
       "      <td>0.132455</td>\n",
       "      <td>0.090158</td>\n",
       "    </tr>\n",
       "    <tr>\n",
       "      <th>2</th>\n",
       "      <td>0.096382</td>\n",
       "      <td>1.000000</td>\n",
       "      <td>0.151479</td>\n",
       "      <td>0.171176</td>\n",
       "      <td>0.114394</td>\n",
       "    </tr>\n",
       "    <tr>\n",
       "      <th>3</th>\n",
       "      <td>0.120610</td>\n",
       "      <td>0.151479</td>\n",
       "      <td>1.000000</td>\n",
       "      <td>0.151227</td>\n",
       "      <td>0.062907</td>\n",
       "    </tr>\n",
       "    <tr>\n",
       "      <th>4</th>\n",
       "      <td>0.132455</td>\n",
       "      <td>0.171176</td>\n",
       "      <td>0.151227</td>\n",
       "      <td>1.000000</td>\n",
       "      <td>0.045094</td>\n",
       "    </tr>\n",
       "    <tr>\n",
       "      <th>5</th>\n",
       "      <td>0.090158</td>\n",
       "      <td>0.114394</td>\n",
       "      <td>0.062907</td>\n",
       "      <td>0.045094</td>\n",
       "      <td>1.000000</td>\n",
       "    </tr>\n",
       "  </tbody>\n",
       "</table>\n",
       "</div>"
      ],
      "text/plain": [
       "userId         1         2         3         4         5\n",
       "userId                                                  \n",
       "1       1.000000  0.096382  0.120610  0.132455  0.090158\n",
       "2       0.096382  1.000000  0.151479  0.171176  0.114394\n",
       "3       0.120610  0.151479  1.000000  0.151227  0.062907\n",
       "4       0.132455  0.171176  0.151227  1.000000  0.045094\n",
       "5       0.090158  0.114394  0.062907  0.045094  1.000000"
      ]
     },
     "execution_count": 18,
     "metadata": {},
     "output_type": "execute_result"
    }
   ],
   "source": [
    "print(\"User similarity matrix shape:\", user_sim_df.shape)\n",
    "user_sim_df.iloc[:5, :5] "
   ]
  },
  {
   "cell_type": "code",
   "execution_count": null,
   "id": "660146c2-8960-426a-b85f-f74e5959fc0b",
   "metadata": {},
   "outputs": [],
   "source": []
  },
  {
   "cell_type": "code",
   "execution_count": null,
   "id": "a8928952-a0fa-4519-b997-f4a9b5f5de7d",
   "metadata": {},
   "outputs": [],
   "source": [
    "#基于相似用户预测评分"
   ]
  },
  {
   "cell_type": "code",
   "execution_count": 19,
   "id": "90106ae7-197f-4945-8333-a3a5164ce8b0",
   "metadata": {},
   "outputs": [],
   "source": [
    "def predict_user_based(user_id, item_id, k=20):\n",
    "    \"\"\"预测 user_id 对 item_id 的评分\"\"\"\n",
    "    if item_id not in user_item.columns:\n",
    "        return np.nan  # 电影不存在\n",
    "\n",
    "    # 当前用户的相似度向量\n",
    "    sims = user_sim_df.loc[user_id]\n",
    "\n",
    "    # 找出对该电影有评分的其他用户\n",
    "    rated_users = user_item[item_id].dropna().index\n",
    "\n",
    "    # 按相似度排序，取前 k 个最相似的用户\n",
    "    top_k_users = rated_users.intersection(sims.index)\n",
    "    top_k_users = sims.loc[top_k_users].sort_values(ascending=False).head(k).index\n",
    "\n",
    "    # 计算加权平均\n",
    "    num, den = 0.0, 0.0\n",
    "    for u in top_k_users:\n",
    "        r = user_item.loc[u, item_id]\n",
    "        if not np.isnan(r):\n",
    "            sim = sims[u]\n",
    "            num += sim * r\n",
    "            den += abs(sim)\n",
    "    if den == 0:\n",
    "        return np.nan\n",
    "    return num / den"
   ]
  },
  {
   "cell_type": "code",
   "execution_count": 20,
   "id": "cd3e92b2-2f82-480d-8452-fe47076c4413",
   "metadata": {},
   "outputs": [
    {
     "name": "stdout",
     "output_type": "stream",
     "text": [
      "Predicted rating for user 1 on movie 1: 4.734528614570308\n"
     ]
    }
   ],
   "source": [
    "pred = predict_user_based(1, 1, k=20)\n",
    "print(\"Predicted rating for user 1 on movie 1:\", pred)"
   ]
  },
  {
   "cell_type": "code",
   "execution_count": null,
   "id": "875bd531-dd34-4463-a1d4-a89a9c0f7d54",
   "metadata": {},
   "outputs": [],
   "source": []
  },
  {
   "cell_type": "code",
   "execution_count": null,
   "id": "b5a5deb3-415f-4111-a02c-cf446b01d591",
   "metadata": {},
   "outputs": [],
   "source": [
    "# 推荐 + 测试"
   ]
  },
  {
   "cell_type": "code",
   "execution_count": 30,
   "id": "19c69783-7600-47f2-bb02-4e3b2e245762",
   "metadata": {},
   "outputs": [],
   "source": [
    "def topn_recommend(user_id, N = 5, K = 20):\n",
    "    seen = set(ratings.loc[ratings.userId == user_id, \"movieId\"])\n",
    "    preds = []\n",
    "\n",
    "    for mid in user_item.columns:\n",
    "        if mid in seen:\n",
    "            continue\n",
    "        pred = predict_user_based(user_id, mid, K)\n",
    "        if not np.isnan(pred):\n",
    "            preds.append((mid,pred))\n",
    "\n",
    "    preds.sort(key=lambda x: x[1], reverse = True)\n",
    "    return preds[:N]"
   ]
  },
  {
   "cell_type": "code",
   "execution_count": 31,
   "id": "9c204bd4-fade-4bbd-8645-dbc51756479f",
   "metadata": {},
   "outputs": [
    {
     "name": "stdout",
     "output_type": "stream",
     "text": [
      "Top-5 Recommendations for user 1:\n",
      "Gate of Heavenly Peace, The (1995)                 Predicted rating: 5.00\n",
      "Schlafes Bruder (Brother of Sleep) (1995)          Predicted rating: 5.00\n",
      "Follow the Bitch (1998)                            Predicted rating: 5.00\n",
      "Ulysses (Ulisse) (1954)                            Predicted rating: 5.00\n",
      "Song of Freedom (1936)                             Predicted rating: 5.00\n"
     ]
    }
   ],
   "source": [
    "recs = topn_recommend(1, N=5)\n",
    "print(\"Top-5 Recommendations for user 1:\")\n",
    "for mid, score in recs:\n",
    "    title = movies.loc[movies.movieId == mid, \"title\"].values[0]\n",
    "    print(f\"{title:<50} Predicted rating: {score:.2f}\")"
   ]
  },
  {
   "cell_type": "code",
   "execution_count": null,
   "id": "07e00d86-2d8d-40ee-a98f-181166939781",
   "metadata": {},
   "outputs": [],
   "source": [
    "# 评估模型"
   ]
  },
  {
   "cell_type": "code",
   "execution_count": 32,
   "id": "aa0e999a-297b-4c6a-bd56-09efc5ac364d",
   "metadata": {},
   "outputs": [
    {
     "name": "stdout",
     "output_type": "stream",
     "text": [
      "Valid predictions: 5000\n",
      "RMSE: 0.8373    MAE: 0.6664\n"
     ]
    }
   ],
   "source": [
    "from sklearn.metrics import mean_squared_error, mean_absolute_error\n",
    "import math\n",
    "\n",
    "# 选取少部分有评分的数据进行预测评估\n",
    "test = ratings.sample(5000, random_state=42)\n",
    "\n",
    "preds = []\n",
    "truth = []\n",
    "\n",
    "for _, row in test.iterrows():\n",
    "    user, movie, true_rating = row[\"userId\"], row[\"movieId\"], row[\"rating\"]\n",
    "    pred = predict_user_based(user, movie, k=20)\n",
    "    if not np.isnan(pred):\n",
    "        preds.append(pred)\n",
    "        truth.append(true_rating)\n",
    "\n",
    "rmse = math.sqrt(mean_squared_error(truth, preds))\n",
    "mae = mean_absolute_error(truth, preds)\n",
    "\n",
    "print(f\"Valid predictions: {len(preds)}\")\n",
    "print(f\"RMSE: {rmse:.4f}    MAE: {mae:.4f}\")"
   ]
  },
  {
   "cell_type": "code",
   "execution_count": null,
   "id": "c6fdcdea-4dc1-48ce-9dbf-ebe8977000b4",
   "metadata": {},
   "outputs": [],
   "source": []
  }
 ],
 "metadata": {
  "kernelspec": {
   "display_name": "Python 3 (ipykernel)",
   "language": "python",
   "name": "python3"
  },
  "language_info": {
   "codemirror_mode": {
    "name": "ipython",
    "version": 3
   },
   "file_extension": ".py",
   "mimetype": "text/x-python",
   "name": "python",
   "nbconvert_exporter": "python",
   "pygments_lexer": "ipython3",
   "version": "3.10.18"
  }
 },
 "nbformat": 4,
 "nbformat_minor": 5
}
