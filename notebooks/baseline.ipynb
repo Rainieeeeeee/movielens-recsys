{
 "cells": [
  {
   "cell_type": "code",
   "execution_count": 4,
   "id": "20da0d31-8905-4da2-9769-a778d5308f0d",
   "metadata": {},
   "outputs": [],
   "source": [
    "import pandas as pd"
   ]
  },
  {
   "cell_type": "code",
   "execution_count": null,
   "id": "08b73265-8890-42b3-88d1-453cd0222976",
   "metadata": {},
   "outputs": [],
   "source": []
  },
  {
   "cell_type": "code",
   "execution_count": 5,
   "id": "8a8e8807-68f4-4f1f-8064-2ecfc83a1727",
   "metadata": {},
   "outputs": [],
   "source": [
    "ratings = pd.read_csv(\"../data/ml-1m/ratings.dat\", \n",
    "                      sep=\"::\", \n",
    "                      engine=\"python\", \n",
    "                      names=[\"userId\", \"movieId\", \"rating\", \"timestamp\"])"
   ]
  },
  {
   "cell_type": "code",
   "execution_count": 10,
   "id": "d8164419-df07-4bc5-bb04-79dcde28b950",
   "metadata": {},
   "outputs": [],
   "source": [
    "movies = pd.read_csv(\"../data/ml-1m/movies.dat\", \n",
    "                     sep=\"::\", \n",
    "                     engine=\"python\", \n",
    "                     names=[\"movieId\", \"title\", \"genres\"],\n",
    "                     encoding=\"latin-1\")"
   ]
  },
  {
   "cell_type": "code",
   "execution_count": 11,
   "id": "b2f8f1e0-7646-41dc-ad92-b05479540452",
   "metadata": {},
   "outputs": [],
   "source": [
    "users = pd.read_csv(\"../data/ml-1m/users.dat\", \n",
    "                    sep=\"::\", \n",
    "                    engine=\"python\", \n",
    "                    names=[\"userId\", \"gender\", \"age\", \"occupation\", \"zip\"])"
   ]
  },
  {
   "cell_type": "code",
   "execution_count": 12,
   "id": "d88854aa-3a73-4309-badb-8fa4a363c0c8",
   "metadata": {},
   "outputs": [
    {
     "name": "stdout",
     "output_type": "stream",
     "text": [
      "   userId  movieId  rating  timestamp\n",
      "0       1     1193       5  978300760\n",
      "1       1      661       3  978302109\n",
      "2       1      914       3  978301968\n",
      "3       1     3408       4  978300275\n",
      "4       1     2355       5  978824291\n"
     ]
    }
   ],
   "source": [
    "#print(ratings.head())"
   ]
  },
  {
   "cell_type": "code",
   "execution_count": 13,
   "id": "1934c14f-d613-4940-9a34-e717c283f16f",
   "metadata": {},
   "outputs": [
    {
     "name": "stdout",
     "output_type": "stream",
     "text": [
      "   movieId                               title                        genres\n",
      "0        1                    Toy Story (1995)   Animation|Children's|Comedy\n",
      "1        2                      Jumanji (1995)  Adventure|Children's|Fantasy\n",
      "2        3             Grumpier Old Men (1995)                Comedy|Romance\n",
      "3        4            Waiting to Exhale (1995)                  Comedy|Drama\n",
      "4        5  Father of the Bride Part II (1995)                        Comedy\n"
     ]
    }
   ],
   "source": [
    "#print(movies.head())"
   ]
  },
  {
   "cell_type": "code",
   "execution_count": 14,
   "id": "c66a6d0b-051e-47e4-9949-6bed3bed3e1b",
   "metadata": {},
   "outputs": [
    {
     "name": "stdout",
     "output_type": "stream",
     "text": [
      "   userId gender  age  occupation    zip\n",
      "0       1      F    1          10  48067\n",
      "1       2      M   56          16  70072\n",
      "2       3      M   25          15  55117\n",
      "3       4      M   45           7  02460\n",
      "4       5      M   25          20  55455\n"
     ]
    }
   ],
   "source": [
    "#print(users.head())"
   ]
  },
  {
   "cell_type": "code",
   "execution_count": 15,
   "id": "b4b247b5-a928-4d8b-ae99-a5d201dbca12",
   "metadata": {},
   "outputs": [
    {
     "data": {
      "text/plain": [
       "movieId\n",
       "2858    3428\n",
       "260     2991\n",
       "1196    2990\n",
       "1210    2883\n",
       "480     2672\n",
       "2028    2653\n",
       "589     2649\n",
       "2571    2590\n",
       "1270    2583\n",
       "593     2578\n",
       "Name: popularity_count, dtype: int64"
      ]
     },
     "execution_count": 15,
     "metadata": {},
     "output_type": "execute_result"
    }
   ],
   "source": [
    "import pandas as pd\n",
    "\n",
    "# 1.1 按“评分次数”作为热度（最常见、最稳）\n",
    "pop_count = (\n",
    "    ratings.groupby(\"movieId\")[\"rating\"]\n",
    "           .count()\n",
    "           .sort_values(ascending=False)\n",
    "           .rename(\"popularity_count\")\n",
    ")\n",
    "pop_count.head(10)"
   ]
  },
  {
   "cell_type": "code",
   "execution_count": 16,
   "id": "fd822f9e-8c8e-4c60-b524-02eb10646ad4",
   "metadata": {},
   "outputs": [
    {
     "data": {
      "text/plain": [
       "movieId\n",
       "2858    14800\n",
       "260     13321\n",
       "1196    12836\n",
       "1210    11598\n",
       "2028    11507\n",
       "1198    11257\n",
       "593     11219\n",
       "2571    11178\n",
       "2762    10835\n",
       "589     10751\n",
       "Name: popularity_sum, dtype: int64"
      ]
     },
     "execution_count": 16,
     "metadata": {},
     "output_type": "execute_result"
    }
   ],
   "source": [
    "# 1.2 按“评分总分”作为热度（偏向高分电影，但会受打分尺度影响）\n",
    "pop_sum = (\n",
    "    ratings.groupby(\"movieId\")[\"rating\"]\n",
    "           .sum()\n",
    "           .sort_values(ascending=False)\n",
    "           .rename(\"popularity_sum\")\n",
    ")\n",
    "pop_sum.head(10)"
   ]
  },
  {
   "cell_type": "code",
   "execution_count": 17,
   "id": "cf3fe568-911d-4ba9-9662-8a2e3709ae41",
   "metadata": {},
   "outputs": [
    {
     "data": {
      "text/html": [
       "<div>\n",
       "<style scoped>\n",
       "    .dataframe tbody tr th:only-of-type {\n",
       "        vertical-align: middle;\n",
       "    }\n",
       "\n",
       "    .dataframe tbody tr th {\n",
       "        vertical-align: top;\n",
       "    }\n",
       "\n",
       "    .dataframe thead th {\n",
       "        text-align: right;\n",
       "    }\n",
       "</style>\n",
       "<table border=\"1\" class=\"dataframe\">\n",
       "  <thead>\n",
       "    <tr style=\"text-align: right;\">\n",
       "      <th></th>\n",
       "      <th>movieId</th>\n",
       "      <th>title</th>\n",
       "      <th>num_ratings</th>\n",
       "      <th>avg_rating</th>\n",
       "    </tr>\n",
       "  </thead>\n",
       "  <tbody>\n",
       "    <tr>\n",
       "      <th>0</th>\n",
       "      <td>2858</td>\n",
       "      <td>American Beauty (1999)</td>\n",
       "      <td>3428</td>\n",
       "      <td>4.317386</td>\n",
       "    </tr>\n",
       "    <tr>\n",
       "      <th>1</th>\n",
       "      <td>260</td>\n",
       "      <td>Star Wars: Episode IV - A New Hope (1977)</td>\n",
       "      <td>2991</td>\n",
       "      <td>4.453694</td>\n",
       "    </tr>\n",
       "    <tr>\n",
       "      <th>2</th>\n",
       "      <td>1196</td>\n",
       "      <td>Star Wars: Episode V - The Empire Strikes Back...</td>\n",
       "      <td>2990</td>\n",
       "      <td>4.292977</td>\n",
       "    </tr>\n",
       "    <tr>\n",
       "      <th>3</th>\n",
       "      <td>1210</td>\n",
       "      <td>Star Wars: Episode VI - Return of the Jedi (1983)</td>\n",
       "      <td>2883</td>\n",
       "      <td>4.022893</td>\n",
       "    </tr>\n",
       "    <tr>\n",
       "      <th>4</th>\n",
       "      <td>480</td>\n",
       "      <td>Jurassic Park (1993)</td>\n",
       "      <td>2672</td>\n",
       "      <td>3.763847</td>\n",
       "    </tr>\n",
       "    <tr>\n",
       "      <th>5</th>\n",
       "      <td>2028</td>\n",
       "      <td>Saving Private Ryan (1998)</td>\n",
       "      <td>2653</td>\n",
       "      <td>4.337354</td>\n",
       "    </tr>\n",
       "    <tr>\n",
       "      <th>6</th>\n",
       "      <td>589</td>\n",
       "      <td>Terminator 2: Judgment Day (1991)</td>\n",
       "      <td>2649</td>\n",
       "      <td>4.058513</td>\n",
       "    </tr>\n",
       "    <tr>\n",
       "      <th>7</th>\n",
       "      <td>2571</td>\n",
       "      <td>Matrix, The (1999)</td>\n",
       "      <td>2590</td>\n",
       "      <td>4.315830</td>\n",
       "    </tr>\n",
       "    <tr>\n",
       "      <th>8</th>\n",
       "      <td>1270</td>\n",
       "      <td>Back to the Future (1985)</td>\n",
       "      <td>2583</td>\n",
       "      <td>3.990321</td>\n",
       "    </tr>\n",
       "    <tr>\n",
       "      <th>9</th>\n",
       "      <td>593</td>\n",
       "      <td>Silence of the Lambs, The (1991)</td>\n",
       "      <td>2578</td>\n",
       "      <td>4.351823</td>\n",
       "    </tr>\n",
       "  </tbody>\n",
       "</table>\n",
       "</div>"
      ],
      "text/plain": [
       "   movieId                                              title  num_ratings  \\\n",
       "0     2858                             American Beauty (1999)         3428   \n",
       "1      260          Star Wars: Episode IV - A New Hope (1977)         2991   \n",
       "2     1196  Star Wars: Episode V - The Empire Strikes Back...         2990   \n",
       "3     1210  Star Wars: Episode VI - Return of the Jedi (1983)         2883   \n",
       "4      480                               Jurassic Park (1993)         2672   \n",
       "5     2028                         Saving Private Ryan (1998)         2653   \n",
       "6      589                  Terminator 2: Judgment Day (1991)         2649   \n",
       "7     2571                                 Matrix, The (1999)         2590   \n",
       "8     1270                          Back to the Future (1985)         2583   \n",
       "9      593                   Silence of the Lambs, The (1991)         2578   \n",
       "\n",
       "   avg_rating  \n",
       "0    4.317386  \n",
       "1    4.453694  \n",
       "2    4.292977  \n",
       "3    4.022893  \n",
       "4    3.763847  \n",
       "5    4.337354  \n",
       "6    4.058513  \n",
       "7    4.315830  \n",
       "8    3.990321  \n",
       "9    4.351823  "
      ]
     },
     "execution_count": 17,
     "metadata": {},
     "output_type": "execute_result"
    }
   ],
   "source": [
    "def topn_by_count(n=10, min_votes=0):\n",
    "    g = ratings.groupby(\"movieId\")[\"rating\"]\n",
    "    size = g.size().rename(\"num_ratings\")\n",
    "    mean = g.mean().rename(\"avg_rating\")\n",
    "    df = pd.concat([size, mean], axis=1)\n",
    "    df = df[df[\"num_ratings\"] >= min_votes]           # 过滤冷门\n",
    "    df = df.sort_values(\"num_ratings\", ascending=False).head(n)\n",
    "    return df.reset_index().merge(movies, on=\"movieId\", how=\"left\")[[\"movieId\",\"title\",\"num_ratings\",\"avg_rating\"]]\n",
    "\n",
    "topn_by_count(n=10, min_votes=50)"
   ]
  },
  {
   "cell_type": "code",
   "execution_count": 18,
   "id": "0d19b894-cf2e-4949-8d85-e057caa96c28",
   "metadata": {},
   "outputs": [
    {
     "data": {
      "text/html": [
       "<div>\n",
       "<style scoped>\n",
       "    .dataframe tbody tr th:only-of-type {\n",
       "        vertical-align: middle;\n",
       "    }\n",
       "\n",
       "    .dataframe tbody tr th {\n",
       "        vertical-align: top;\n",
       "    }\n",
       "\n",
       "    .dataframe thead th {\n",
       "        text-align: right;\n",
       "    }\n",
       "</style>\n",
       "<table border=\"1\" class=\"dataframe\">\n",
       "  <thead>\n",
       "    <tr style=\"text-align: right;\">\n",
       "      <th></th>\n",
       "      <th>movieId</th>\n",
       "      <th>title</th>\n",
       "      <th>num_ratings</th>\n",
       "      <th>avg_rating</th>\n",
       "      <th>bayes_score</th>\n",
       "    </tr>\n",
       "  </thead>\n",
       "  <tbody>\n",
       "    <tr>\n",
       "      <th>0</th>\n",
       "      <td>318</td>\n",
       "      <td>Shawshank Redemption, The (1994)</td>\n",
       "      <td>2227</td>\n",
       "      <td>4.554558</td>\n",
       "      <td>4.533192</td>\n",
       "    </tr>\n",
       "    <tr>\n",
       "      <th>1</th>\n",
       "      <td>858</td>\n",
       "      <td>Godfather, The (1972)</td>\n",
       "      <td>2223</td>\n",
       "      <td>4.524966</td>\n",
       "      <td>4.504214</td>\n",
       "    </tr>\n",
       "    <tr>\n",
       "      <th>2</th>\n",
       "      <td>50</td>\n",
       "      <td>Usual Suspects, The (1995)</td>\n",
       "      <td>1783</td>\n",
       "      <td>4.517106</td>\n",
       "      <td>4.491587</td>\n",
       "    </tr>\n",
       "    <tr>\n",
       "      <th>3</th>\n",
       "      <td>527</td>\n",
       "      <td>Schindler's List (1993)</td>\n",
       "      <td>2304</td>\n",
       "      <td>4.510417</td>\n",
       "      <td>4.490687</td>\n",
       "    </tr>\n",
       "    <tr>\n",
       "      <th>4</th>\n",
       "      <td>2019</td>\n",
       "      <td>Seven Samurai (The Magnificent Seven) (Shichin...</td>\n",
       "      <td>628</td>\n",
       "      <td>4.560510</td>\n",
       "      <td>4.488316</td>\n",
       "    </tr>\n",
       "    <tr>\n",
       "      <th>5</th>\n",
       "      <td>1198</td>\n",
       "      <td>Raiders of the Lost Ark (1981)</td>\n",
       "      <td>2514</td>\n",
       "      <td>4.477725</td>\n",
       "      <td>4.460249</td>\n",
       "    </tr>\n",
       "    <tr>\n",
       "      <th>6</th>\n",
       "      <td>1148</td>\n",
       "      <td>Wrong Trousers, The (1993)</td>\n",
       "      <td>882</td>\n",
       "      <td>4.507937</td>\n",
       "      <td>4.458238</td>\n",
       "    </tr>\n",
       "    <tr>\n",
       "      <th>7</th>\n",
       "      <td>745</td>\n",
       "      <td>Close Shave, A (1995)</td>\n",
       "      <td>657</td>\n",
       "      <td>4.520548</td>\n",
       "      <td>4.454142</td>\n",
       "    </tr>\n",
       "    <tr>\n",
       "      <th>8</th>\n",
       "      <td>260</td>\n",
       "      <td>Star Wars: Episode IV - A New Hope (1977)</td>\n",
       "      <td>2991</td>\n",
       "      <td>4.453694</td>\n",
       "      <td>4.439355</td>\n",
       "    </tr>\n",
       "    <tr>\n",
       "      <th>9</th>\n",
       "      <td>904</td>\n",
       "      <td>Rear Window (1954)</td>\n",
       "      <td>1050</td>\n",
       "      <td>4.476190</td>\n",
       "      <td>4.435526</td>\n",
       "    </tr>\n",
       "  </tbody>\n",
       "</table>\n",
       "</div>"
      ],
      "text/plain": [
       "   movieId                                              title  num_ratings  \\\n",
       "0      318                   Shawshank Redemption, The (1994)         2227   \n",
       "1      858                              Godfather, The (1972)         2223   \n",
       "2       50                         Usual Suspects, The (1995)         1783   \n",
       "3      527                            Schindler's List (1993)         2304   \n",
       "4     2019  Seven Samurai (The Magnificent Seven) (Shichin...          628   \n",
       "5     1198                     Raiders of the Lost Ark (1981)         2514   \n",
       "6     1148                         Wrong Trousers, The (1993)          882   \n",
       "7      745                              Close Shave, A (1995)          657   \n",
       "8      260          Star Wars: Episode IV - A New Hope (1977)         2991   \n",
       "9      904                                 Rear Window (1954)         1050   \n",
       "\n",
       "   avg_rating  bayes_score  \n",
       "0    4.554558     4.533192  \n",
       "1    4.524966     4.504214  \n",
       "2    4.517106     4.491587  \n",
       "3    4.510417     4.490687  \n",
       "4    4.560510     4.488316  \n",
       "5    4.477725     4.460249  \n",
       "6    4.507937     4.458238  \n",
       "7    4.520548     4.454142  \n",
       "8    4.453694     4.439355  \n",
       "9    4.476190     4.435526  "
      ]
     },
     "execution_count": 18,
     "metadata": {},
     "output_type": "execute_result"
    }
   ],
   "source": [
    "def topn_by_bayesian(n=10, m=50):\n",
    "    \"\"\"\n",
    "    贝叶斯均值：综合均分与评分量，避免冷门高分上榜。\n",
    "      score = (v/(v+m))*R + (m/(v+m))*C\n",
    "      v=电影评分数, R=电影均分, C=全局均分, m=平滑强度\n",
    "    \"\"\"\n",
    "    g = ratings.groupby(\"movieId\")[\"rating\"]\n",
    "    v = g.size().rename(\"num_ratings\")\n",
    "    R = g.mean().rename(\"avg_rating\")\n",
    "    C = ratings[\"rating\"].mean()\n",
    "    s = ((v/(v+m))*R + (m/(v+m))*C).rename(\"bayes_score\")\n",
    "    df = pd.concat([v, R, s], axis=1).sort_values(\"bayes_score\", ascending=False).head(n)\n",
    "    return df.reset_index().merge(movies, on=\"movieId\", how=\"left\")[[\"movieId\",\"title\",\"num_ratings\",\"avg_rating\",\"bayes_score\"]]\n",
    "\n",
    "topn_by_bayesian(n=10, m=50)"
   ]
  },
  {
   "cell_type": "code",
   "execution_count": 19,
   "id": "54ac0fec-c8b8-40f0-b9c8-bdacb2f27c58",
   "metadata": {},
   "outputs": [
    {
     "data": {
      "text/plain": [
       "['Shawshank Redemption, The (1994)',\n",
       " 'Godfather, The (1972)',\n",
       " 'Usual Suspects, The (1995)',\n",
       " \"Schindler's List (1993)\",\n",
       " 'Seven Samurai (The Magnificent Seven) (Shichinin no samurai) (1954)',\n",
       " 'Raiders of the Lost Ark (1981)',\n",
       " 'Wrong Trousers, The (1993)',\n",
       " 'Close Shave, A (1995)',\n",
       " 'Star Wars: Episode IV - A New Hope (1977)',\n",
       " 'Rear Window (1954)']"
      ]
     },
     "execution_count": 19,
     "metadata": {},
     "output_type": "execute_result"
    }
   ],
   "source": [
    "TOPN = 10\n",
    "GLOBAL_TOPN = topn_by_bayesian(n=TOPN, m=50)\n",
    "GLOBAL_TITLES = GLOBAL_TOPN[\"title\"].tolist()\n",
    "GLOBAL_TITLES"
   ]
  },
  {
   "cell_type": "code",
   "execution_count": 20,
   "id": "68b05852-cf65-46b4-857c-d5bce302c93c",
   "metadata": {},
   "outputs": [
    {
     "name": "stdout",
     "output_type": "stream",
     "text": [
      "Hit-Rate@10: 0.011  (越高越好；Baseline 只做个参考)\n"
     ]
    }
   ],
   "source": [
    "import numpy as np\n",
    "\n",
    "# 简单按时间切一刀：每个用户最后一条作为“测试”，其余为“训练”\n",
    "ratings_sorted = ratings.sort_values(\"timestamp\")\n",
    "last_idx = ratings_sorted.groupby(\"userId\")[\"timestamp\"].idxmax()\n",
    "test = ratings_sorted.loc[last_idx]\n",
    "train = ratings_sorted.drop(last_idx)\n",
    "\n",
    "# 用全局 Top-N 去“命中”用户的最后观看电影\n",
    "test_join = test.merge(movies[[\"movieId\",\"title\"]], on=\"movieId\", how=\"left\")\n",
    "hits = test_join[\"title\"].isin(GLOBAL_TITLES).sum()\n",
    "hit_rate = hits / len(test_join)\n",
    "print(f\"Hit-Rate@{TOPN}: {hit_rate:.3f}  (越高越好；Baseline 只做个参考)\")"
   ]
  },
  {
   "cell_type": "code",
   "execution_count": 21,
   "id": "347c62e9-0945-4786-94f4-6c8f6d8077aa",
   "metadata": {},
   "outputs": [
    {
     "data": {
      "text/html": [
       "<div>\n",
       "<style scoped>\n",
       "    .dataframe tbody tr th:only-of-type {\n",
       "        vertical-align: middle;\n",
       "    }\n",
       "\n",
       "    .dataframe tbody tr th {\n",
       "        vertical-align: top;\n",
       "    }\n",
       "\n",
       "    .dataframe thead th {\n",
       "        text-align: right;\n",
       "    }\n",
       "</style>\n",
       "<table border=\"1\" class=\"dataframe\">\n",
       "  <thead>\n",
       "    <tr style=\"text-align: right;\">\n",
       "      <th></th>\n",
       "      <th>movieId</th>\n",
       "      <th>title</th>\n",
       "      <th>num_ratings</th>\n",
       "      <th>avg_rating</th>\n",
       "      <th>bayes_score</th>\n",
       "    </tr>\n",
       "  </thead>\n",
       "  <tbody>\n",
       "    <tr>\n",
       "      <th>0</th>\n",
       "      <td>318</td>\n",
       "      <td>Shawshank Redemption, The (1994)</td>\n",
       "      <td>2227</td>\n",
       "      <td>4.554558</td>\n",
       "      <td>4.533192</td>\n",
       "    </tr>\n",
       "    <tr>\n",
       "      <th>1</th>\n",
       "      <td>858</td>\n",
       "      <td>Godfather, The (1972)</td>\n",
       "      <td>2223</td>\n",
       "      <td>4.524966</td>\n",
       "      <td>4.504214</td>\n",
       "    </tr>\n",
       "    <tr>\n",
       "      <th>2</th>\n",
       "      <td>50</td>\n",
       "      <td>Usual Suspects, The (1995)</td>\n",
       "      <td>1783</td>\n",
       "      <td>4.517106</td>\n",
       "      <td>4.491587</td>\n",
       "    </tr>\n",
       "    <tr>\n",
       "      <th>3</th>\n",
       "      <td>527</td>\n",
       "      <td>Schindler's List (1993)</td>\n",
       "      <td>2304</td>\n",
       "      <td>4.510417</td>\n",
       "      <td>4.490687</td>\n",
       "    </tr>\n",
       "    <tr>\n",
       "      <th>4</th>\n",
       "      <td>2019</td>\n",
       "      <td>Seven Samurai (The Magnificent Seven) (Shichin...</td>\n",
       "      <td>628</td>\n",
       "      <td>4.560510</td>\n",
       "      <td>4.488316</td>\n",
       "    </tr>\n",
       "  </tbody>\n",
       "</table>\n",
       "</div>"
      ],
      "text/plain": [
       "   movieId                                              title  num_ratings  \\\n",
       "0      318                   Shawshank Redemption, The (1994)         2227   \n",
       "1      858                              Godfather, The (1972)         2223   \n",
       "2       50                         Usual Suspects, The (1995)         1783   \n",
       "3      527                            Schindler's List (1993)         2304   \n",
       "4     2019  Seven Samurai (The Magnificent Seven) (Shichin...          628   \n",
       "\n",
       "   avg_rating  bayes_score  \n",
       "0    4.554558     4.533192  \n",
       "1    4.524966     4.504214  \n",
       "2    4.517106     4.491587  \n",
       "3    4.510417     4.490687  \n",
       "4    4.560510     4.488316  "
      ]
     },
     "execution_count": 21,
     "metadata": {},
     "output_type": "execute_result"
    }
   ],
   "source": [
    "GLOBAL_TOPN.to_csv(\"../data/global_topn_bayes.csv\", index=False)\n",
    "GLOBAL_TOPN.head()"
   ]
  },
  {
   "cell_type": "code",
   "execution_count": null,
   "id": "fd56bc8b-3286-4d25-a800-0c397f6980d5",
   "metadata": {},
   "outputs": [],
   "source": []
  }
 ],
 "metadata": {
  "kernelspec": {
   "display_name": "Python 3 (ipykernel)",
   "language": "python",
   "name": "python3"
  },
  "language_info": {
   "codemirror_mode": {
    "name": "ipython",
    "version": 3
   },
   "file_extension": ".py",
   "mimetype": "text/x-python",
   "name": "python",
   "nbconvert_exporter": "python",
   "pygments_lexer": "ipython3",
   "version": "3.10.18"
  }
 },
 "nbformat": 4,
 "nbformat_minor": 5
}
