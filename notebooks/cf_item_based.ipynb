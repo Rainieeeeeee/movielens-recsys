{
 "cells": [
  {
   "cell_type": "code",
   "execution_count": 1,
   "id": "afa1d362-c382-4c3c-97e4-082c6bc09538",
   "metadata": {},
   "outputs": [],
   "source": [
    "#准备数据与相似度矩阵"
   ]
  },
  {
   "cell_type": "code",
   "execution_count": 2,
   "id": "2181292f-d8c3-4e19-8704-81d9599af299",
   "metadata": {},
   "outputs": [],
   "source": [
    "from sklearn.metrics.pairwise import cosine_similarity"
   ]
  },
  {
   "cell_type": "code",
   "execution_count": 1,
   "id": "5a3df298-5266-4182-bf0b-e4f02a355367",
   "metadata": {},
   "outputs": [],
   "source": [
    "import pandas as pd"
   ]
  },
  {
   "cell_type": "code",
   "execution_count": 37,
   "id": "1e65d086-c361-4a40-9507-1d0368495efb",
   "metadata": {},
   "outputs": [],
   "source": [
    "import numpy as np"
   ]
  },
  {
   "cell_type": "code",
   "execution_count": 38,
   "id": "643cb728-b25b-4ef3-a77b-4eed4ccabb48",
   "metadata": {},
   "outputs": [],
   "source": [
    "ratings = pd.read_csv(\"../data/ml-1m/ratings.dat\", sep=\"::\", engine=\"python\",\n",
    "                      names=[\"userId\", \"movieId\", \"rating\", \"timestamp\"])"
   ]
  },
  {
   "cell_type": "code",
   "execution_count": 39,
   "id": "0ce5ed1d-c99f-4596-95da-4d96d411fb48",
   "metadata": {},
   "outputs": [],
   "source": [
    "ui = ratings.pivot_table(index = \"userId\", columns = \"movieId\", values = \"rating\")"
   ]
  },
  {
   "cell_type": "code",
   "execution_count": 40,
   "id": "1648e3de-82fa-41a9-bdb5-a5d5f3a5f8b6",
   "metadata": {},
   "outputs": [],
   "source": [
    "ui_filled = ui.fillna(0).values"
   ]
  },
  {
   "cell_type": "code",
   "execution_count": 41,
   "id": "a604d0ba-c676-47b9-b512-a059e1138ee6",
   "metadata": {},
   "outputs": [],
   "source": [
    "movie_ids = ui.columns.to_numpy()"
   ]
  },
  {
   "cell_type": "code",
   "execution_count": 42,
   "id": "03c1c84e-fd11-4fbe-a9ce-82def2862318",
   "metadata": {},
   "outputs": [],
   "source": [
    "item_sim = cosine_similarity(ui_filled.T)"
   ]
  },
  {
   "cell_type": "code",
   "execution_count": 43,
   "id": "c943b0b2-2121-4065-aa32-60cc66e3ce64",
   "metadata": {},
   "outputs": [
    {
     "name": "stdout",
     "output_type": "stream",
     "text": [
      "相似度矩阵 shape: (3706, 3706)\n"
     ]
    }
   ],
   "source": [
    "print(\"相似度矩阵 shape:\", item_sim.shape)"
   ]
  },
  {
   "cell_type": "code",
   "execution_count": null,
   "id": "7a520faf-9daf-4367-a29b-b35b4ee4e2dd",
   "metadata": {},
   "outputs": [],
   "source": []
  },
  {
   "cell_type": "code",
   "execution_count": 44,
   "id": "9fae4423-749d-4989-bd97-a21995588e97",
   "metadata": {},
   "outputs": [],
   "source": [
    "#预测用户u对物品i的评分"
   ]
  },
  {
   "cell_type": "code",
   "execution_count": 45,
   "id": "6f1e5962-c2e8-4c87-9e6d-d9b79b193013",
   "metadata": {},
   "outputs": [],
   "source": [
    "def predict_item_based(user_id, item_id, k=20):\n",
    "    if user_id not in ui.index or item_id not in ui.columns:\n",
    "        return np.nan\n",
    "    user_ratings = ui.loc[user_id].dropna()\n",
    "    if user_ratings.empty:\n",
    "        return np.nan\n",
    "\n",
    "    target_idx = np.where(movie_ids == item_id)[0][0]\n",
    "    neighbor_idxs = [np.where(movie_ids == mid)[0][0] for mid in user_ratings.index]\n",
    "    sims = item_sim[target_idx, neighbor_idxs]\n",
    "    vals = user_ratings.to_numpy()\n",
    "    \n",
    "    topk = np.argsort(sims)[-k:]\n",
    "    sims, vals = sims[topk], vals[topk]\n",
    "    denom = np.abs(sims).sum()\n",
    "    return np.dot(sims, vals) / denom if denom != 0 else np.nan"
   ]
  },
  {
   "cell_type": "code",
   "execution_count": null,
   "id": "658108c3-20ac-48ca-902c-f1b880ddd84a",
   "metadata": {},
   "outputs": [],
   "source": []
  },
  {
   "cell_type": "code",
   "execution_count": 46,
   "id": "c3729aa3-8f9b-4980-afd6-47c30661ae65",
   "metadata": {},
   "outputs": [],
   "source": [
    "# 生成推荐结果"
   ]
  },
  {
   "cell_type": "code",
   "execution_count": 47,
   "id": "6a0afb21-c25b-41e8-9a76-c61ad8fe14bf",
   "metadata": {},
   "outputs": [
    {
     "data": {
      "text/plain": [
       "[(3209, 5.000000000000001),\n",
       " (1915, 5.0),\n",
       " (2438, 4.747242914370367),\n",
       " (3890, 4.693091529724568),\n",
       " (2569, 4.5713625523374395)]"
      ]
     },
     "execution_count": 47,
     "metadata": {},
     "output_type": "execute_result"
    }
   ],
   "source": [
    "def topn_recommend(user_id, N=10, k=20):\n",
    "    seen = set(ratings.loc[ratings.userId == user_id, \"movieId\"])\n",
    "    preds = []\n",
    "    for mid in movie_ids:\n",
    "        if mid in seen:\n",
    "            continue\n",
    "        p = predict_item_based(user_id, mid, k)\n",
    "        if not np.isnan(p):\n",
    "            preds.append((mid, p))\n",
    "    preds.sort(key=lambda x: x[1], reverse=True)\n",
    "    return preds[:N]\n",
    "\n",
    "topn_recommend(1, N=5)"
   ]
  },
  {
   "cell_type": "code",
   "execution_count": null,
   "id": "838797e5-fe5d-4243-a0a9-b5a4a043e320",
   "metadata": {},
   "outputs": [],
   "source": [
    "# 把推荐的电影id转化成电影名字"
   ]
  },
  {
   "cell_type": "code",
   "execution_count": 50,
   "id": "b71dc5f5-e947-4021-902f-85ad92cbe403",
   "metadata": {},
   "outputs": [],
   "source": [
    "movies = pd.read_csv(\n",
    "    \"../data/ml-1m/movies.dat\",\n",
    "    sep=\"::\",\n",
    "    engine=\"python\",\n",
    "    names=[\"movieId\", \"title\", \"genres\"],\n",
    "    encoding=\"latin-1\"\n",
    ")"
   ]
  },
  {
   "cell_type": "code",
   "execution_count": 51,
   "id": "e283b8d2-7a47-4415-a8c4-ccc5ef326929",
   "metadata": {},
   "outputs": [],
   "source": [
    "def show_recommendations(user_id, N=5):\n",
    "    preds = topn_recommend(user_id, N)\n",
    "    recs = pd.DataFrame(preds, columns=[\"movieId\", \"pred_rating\"])\n",
    "    recs = recs.merge(movies[[\"movieId\", \"title\", \"genres\"]], on=\"movieId\")\n",
    "    return recs[[\"title\", \"genres\", \"pred_rating\"]]"
   ]
  },
  {
   "cell_type": "code",
   "execution_count": 52,
   "id": "4bfcdf16-443e-4dc2-965a-1e80d6a46c8f",
   "metadata": {},
   "outputs": [
    {
     "data": {
      "text/html": [
       "<div>\n",
       "<style scoped>\n",
       "    .dataframe tbody tr th:only-of-type {\n",
       "        vertical-align: middle;\n",
       "    }\n",
       "\n",
       "    .dataframe tbody tr th {\n",
       "        vertical-align: top;\n",
       "    }\n",
       "\n",
       "    .dataframe thead th {\n",
       "        text-align: right;\n",
       "    }\n",
       "</style>\n",
       "<table border=\"1\" class=\"dataframe\">\n",
       "  <thead>\n",
       "    <tr style=\"text-align: right;\">\n",
       "      <th></th>\n",
       "      <th>title</th>\n",
       "      <th>genres</th>\n",
       "      <th>pred_rating</th>\n",
       "    </tr>\n",
       "  </thead>\n",
       "  <tbody>\n",
       "    <tr>\n",
       "      <th>0</th>\n",
       "      <td>Loves of Carmen, The (1948)</td>\n",
       "      <td>Drama</td>\n",
       "      <td>5.000000</td>\n",
       "    </tr>\n",
       "    <tr>\n",
       "      <th>1</th>\n",
       "      <td>Voyage to the Beginning of the World (1997)</td>\n",
       "      <td>Drama</td>\n",
       "      <td>5.000000</td>\n",
       "    </tr>\n",
       "    <tr>\n",
       "      <th>2</th>\n",
       "      <td>Outside Ozona (1998)</td>\n",
       "      <td>Drama|Thriller</td>\n",
       "      <td>4.747243</td>\n",
       "    </tr>\n",
       "    <tr>\n",
       "      <th>3</th>\n",
       "      <td>Back Stage (2000)</td>\n",
       "      <td>Documentary</td>\n",
       "      <td>4.693092</td>\n",
       "    </tr>\n",
       "    <tr>\n",
       "      <th>4</th>\n",
       "      <td>Among Giants (1998)</td>\n",
       "      <td>Drama|Romance</td>\n",
       "      <td>4.571363</td>\n",
       "    </tr>\n",
       "  </tbody>\n",
       "</table>\n",
       "</div>"
      ],
      "text/plain": [
       "                                         title          genres  pred_rating\n",
       "0                  Loves of Carmen, The (1948)           Drama     5.000000\n",
       "1  Voyage to the Beginning of the World (1997)           Drama     5.000000\n",
       "2                         Outside Ozona (1998)  Drama|Thriller     4.747243\n",
       "3                            Back Stage (2000)     Documentary     4.693092\n",
       "4                          Among Giants (1998)   Drama|Romance     4.571363"
      ]
     },
     "execution_count": 52,
     "metadata": {},
     "output_type": "execute_result"
    }
   ],
   "source": [
    "show_recommendations(1, N=5)"
   ]
  },
  {
   "cell_type": "code",
   "execution_count": null,
   "id": "a0ce75fb-e87e-417c-a510-af153feb3a63",
   "metadata": {},
   "outputs": [],
   "source": []
  },
  {
   "cell_type": "code",
   "execution_count": null,
   "id": "6559476d-3342-4778-982f-e5655c22c784",
   "metadata": {},
   "outputs": [],
   "source": [
    "#做一个简单的评估"
   ]
  },
  {
   "cell_type": "code",
   "execution_count": 53,
   "id": "22f41ff7-9ca3-4d6d-a419-8aa536e918c8",
   "metadata": {},
   "outputs": [],
   "source": [
    "# 按用户切分"
   ]
  },
  {
   "cell_type": "code",
   "execution_count": 56,
   "id": "692ad5c5-0937-45f8-8054-69e73805334a",
   "metadata": {},
   "outputs": [
    {
     "data": {
      "text/plain": [
       "(802553, 197656)"
      ]
     },
     "execution_count": 56,
     "metadata": {},
     "output_type": "execute_result"
    }
   ],
   "source": [
    "import numpy as np\n",
    "import pandas as pd\n",
    "\n",
    "def train_test_split_per_user(df, test_frac=0.2, seed=42):\n",
    "    \"\"\"保证每个用户在 test 也有样本；样本量为 max(1, 用户数×test_frac)\"\"\"\n",
    "    np.random.seed(seed)\n",
    "    train_parts, test_parts = [], []\n",
    "    for uid, g in df.groupby(\"userId\"):\n",
    "        if len(g) == 1:\n",
    "            train_parts.append(g);  # 只有一条就全部放 train\n",
    "            continue\n",
    "        n_test = max(1, int(len(g)*test_frac))\n",
    "        idx = np.random.choice(g.index, n_test, replace=False)\n",
    "        test_parts.append(g.loc[idx])\n",
    "        train_parts.append(g.drop(idx))\n",
    "    train = pd.concat(train_parts).reset_index(drop=True)\n",
    "    test  = pd.concat(test_parts).reset_index(drop=True)\n",
    "    return train, test\n",
    "\n",
    "train, test = train_test_split_per_user(ratings, test_frac=0.2, seed=42)\n",
    "len(train), len(test)"
   ]
  },
  {
   "cell_type": "code",
   "execution_count": 57,
   "id": "e414f3d1-e05e-4fae-9dde-b6b96d469a98",
   "metadata": {},
   "outputs": [],
   "source": [
    "# 用 train 构建矩阵 + 物品相似度 + 预测函数"
   ]
  },
  {
   "cell_type": "code",
   "execution_count": 58,
   "id": "8c6f4fcf-1067-4fae-808a-d413a848ea58",
   "metadata": {},
   "outputs": [],
   "source": [
    "from sklearn.metrics.pairwise import cosine_similarity\n",
    "\n",
    "# 用户-物品评分矩阵（基于 train）\n",
    "ui_train = train.pivot_table(index=\"userId\", columns=\"movieId\", values=\"rating\", fill_value=0)\n",
    "movie_ids = ui_train.columns.values\n",
    "mid_to_idx = {m:i for i,m in enumerate(movie_ids)}\n",
    "\n",
    "# 物品-物品余弦相似度（列向量）\n",
    "item_item_sim = cosine_similarity(ui_train.T)  # shape: (M, M)\n",
    "\n",
    "def predict_item_based(user_id, item_id, k=20):\n",
    "    \"\"\"对单个 (user, item) 预测评分；基于 K 个最相似已评分物品的加权平均\"\"\"\n",
    "    if (user_id not in ui_train.index) or (item_id not in mid_to_idx):\n",
    "        return np.nan\n",
    "    urow = ui_train.loc[user_id].values\n",
    "    rated_mask = urow > 0\n",
    "    if not rated_mask.any():\n",
    "        return np.nan\n",
    "\n",
    "    j = mid_to_idx[item_id]\n",
    "    sims_all = item_item_sim[j]\n",
    "    sims = sims_all[rated_mask]\n",
    "    rates = urow[rated_mask]\n",
    "\n",
    "    # 取 Top-K 相似邻居\n",
    "    top = np.argsort(-sims)[:k]\n",
    "    top_sims, top_rates = sims[top], rates[top]\n",
    "    denom = np.abs(top_sims).sum()\n",
    "    if denom == 0:\n",
    "        return np.nan\n",
    "    return (top_sims @ top_rates) / denom"
   ]
  },
  {
   "cell_type": "code",
   "execution_count": 59,
   "id": "b4fb10c0-9e7f-460e-a4aa-04813089230c",
   "metadata": {},
   "outputs": [],
   "source": [
    "# 评估（RMSE / MAE）+ 打印结果"
   ]
  },
  {
   "cell_type": "code",
   "execution_count": 60,
   "id": "fceb4e94-4487-4203-ba9e-07b940ee2466",
   "metadata": {},
   "outputs": [
    {
     "name": "stdout",
     "output_type": "stream",
     "text": [
      "Valid predictions: 197622\n",
      "RMSE: 0.9336    MAE: 0.7259\n"
     ]
    }
   ],
   "source": [
    "from sklearn.metrics import mean_squared_error, mean_absolute_error\n",
    "\n",
    "def evaluate_model(test_df, k=20):\n",
    "    preds, trues = [], []\n",
    "    for _, row in test_df.iterrows():\n",
    "        u, m, r = row[\"userId\"], row[\"movieId\"], row[\"rating\"]\n",
    "        p = predict_item_based(u, m, k)\n",
    "        if not np.isnan(p):\n",
    "            preds.append(p); trues.append(r)\n",
    "    if len(preds) == 0:\n",
    "        print(\"没有有效预测（可能 test 中多数条目在 train 未出现）。\")\n",
    "        return None, None, 0\n",
    "    rmse = np.sqrt(mean_squared_error(trues, preds))\n",
    "    mae  = mean_absolute_error(trues, preds)\n",
    "    return rmse, mae, len(preds)\n",
    "\n",
    "rmse, mae, n = evaluate_model(test, k=20)\n",
    "print(f\"Valid predictions: {n}\")\n",
    "print(f\"RMSE: {rmse:.4f}    MAE: {mae:.4f}\")"
   ]
  },
  {
   "cell_type": "code",
   "execution_count": null,
   "id": "9190fe82-e33f-4fbc-959b-bda4dee4fde5",
   "metadata": {},
   "outputs": [],
   "source": []
  }
 ],
 "metadata": {
  "kernelspec": {
   "display_name": "Python 3 (ipykernel)",
   "language": "python",
   "name": "python3"
  },
  "language_info": {
   "codemirror_mode": {
    "name": "ipython",
    "version": 3
   },
   "file_extension": ".py",
   "mimetype": "text/x-python",
   "name": "python",
   "nbconvert_exporter": "python",
   "pygments_lexer": "ipython3",
   "version": "3.10.18"
  }
 },
 "nbformat": 4,
 "nbformat_minor": 5
}
