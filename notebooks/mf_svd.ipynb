{
 "cells": [
  {
   "cell_type": "code",
   "execution_count": 2,
   "id": "1b122828-754d-4ba0-bfd9-5ea19bef407a",
   "metadata": {},
   "outputs": [],
   "source": [
    "import pandas as pd"
   ]
  },
  {
   "cell_type": "code",
   "execution_count": 3,
   "id": "56da711b-7112-45b7-be0b-4f7fc2a178f0",
   "metadata": {},
   "outputs": [],
   "source": [
    "from pathlib import Path"
   ]
  },
  {
   "cell_type": "code",
   "execution_count": 4,
   "id": "dfdbce45-d567-434f-8e29-f446dcaf8351",
   "metadata": {},
   "outputs": [],
   "source": [
    "DATA_DIR = Path(\"../data/ml-1m\")"
   ]
  },
  {
   "cell_type": "code",
   "execution_count": 5,
   "id": "ee11e128-8a4a-49b4-b82f-5cfeba6f06e1",
   "metadata": {},
   "outputs": [],
   "source": [
    "ratings = pd.read_csv(\n",
    "    DATA_DIR / \"ratings.dat\",\n",
    "    sep=\"::\", engine=\"python\",\n",
    "    names=[\"userId\", \"movieId\", \"rating\", \"timestamp\"]\n",
    ")"
   ]
  },
  {
   "cell_type": "code",
   "execution_count": 6,
   "id": "bdca5b30-1e87-482d-aab6-f7566d46cd45",
   "metadata": {},
   "outputs": [],
   "source": [
    "movies = pd.read_csv(\n",
    "    DATA_DIR / \"movies.dat\",\n",
    "    sep=\"::\", engine=\"python\",\n",
    "    names=[\"movieId\", \"title\", \"genres\"],\n",
    "    encoding=\"latin-1\"\n",
    ")"
   ]
  },
  {
   "cell_type": "code",
   "execution_count": 7,
   "id": "4a4e914d-dc44-4a2b-8747-a50199392fab",
   "metadata": {},
   "outputs": [
    {
     "name": "stdout",
     "output_type": "stream",
     "text": [
      "(1000209, 4) (3883, 3)\n"
     ]
    },
    {
     "data": {
      "text/plain": [
       "(   userId  movieId  rating  timestamp\n",
       " 0       1     1193       5  978300760\n",
       " 1       1      661       3  978302109\n",
       " 2       1      914       3  978301968\n",
       " 3       1     3408       4  978300275\n",
       " 4       1     2355       5  978824291,\n",
       "    movieId                               title                        genres\n",
       " 0        1                    Toy Story (1995)   Animation|Children's|Comedy\n",
       " 1        2                      Jumanji (1995)  Adventure|Children's|Fantasy\n",
       " 2        3             Grumpier Old Men (1995)                Comedy|Romance\n",
       " 3        4            Waiting to Exhale (1995)                  Comedy|Drama\n",
       " 4        5  Father of the Bride Part II (1995)                        Comedy)"
      ]
     },
     "execution_count": 7,
     "metadata": {},
     "output_type": "execute_result"
    }
   ],
   "source": [
    "\n",
    "print(ratings.shape, movies.shape)\n",
    "ratings.head(), movies.head()"
   ]
  },
  {
   "cell_type": "code",
   "execution_count": 8,
   "id": "d9bc8e6e-750f-46e5-9f03-a89bc8be8331",
   "metadata": {},
   "outputs": [],
   "source": [
    "# 用surprise 构造数据集 & 切分"
   ]
  },
  {
   "cell_type": "code",
   "execution_count": 9,
   "id": "af18c260-fc3e-4b90-b062-b61c801d75ab",
   "metadata": {},
   "outputs": [],
   "source": [
    "from surprise import Dataset, Reader"
   ]
  },
  {
   "cell_type": "code",
   "execution_count": 10,
   "id": "327fd366-e929-4489-a6b0-85b5e34d32a2",
   "metadata": {},
   "outputs": [],
   "source": [
    "from surprise.model_selection import train_test_split\n",
    "import itertools"
   ]
  },
  {
   "cell_type": "code",
   "execution_count": 11,
   "id": "6e669f78-42ec-49e8-8d0c-c37cd655d762",
   "metadata": {},
   "outputs": [],
   "source": [
    "reader = Reader(rating_scale=(1,5))"
   ]
  },
  {
   "cell_type": "code",
   "execution_count": 12,
   "id": "9e9371dc-c7d5-4991-af35-6a09d47da7d7",
   "metadata": {},
   "outputs": [],
   "source": [
    "data = Dataset.load_from_df(ratings[['userId','movieId','rating']],reader)"
   ]
  },
  {
   "cell_type": "code",
   "execution_count": null,
   "id": "8711f437-2db7-4de8-aab7-1f0688e5387d",
   "metadata": {},
   "outputs": [],
   "source": []
  },
  {
   "cell_type": "code",
   "execution_count": 13,
   "id": "ae4f2d25-d961-4f83-93f9-4f5563bfa259",
   "metadata": {},
   "outputs": [],
   "source": [
    "trainset,testset = train_test_split(data, test_size = 0.2, random_state = 42)"
   ]
  },
  {
   "cell_type": "code",
   "execution_count": 14,
   "id": "725c614f-4fdb-41eb-bc23-1c6bc7e12c31",
   "metadata": {},
   "outputs": [
    {
     "data": {
      "text/plain": [
       "(<generator object Trainset.all_ratings at 0x124d00d60>, 200042)"
      ]
     },
     "execution_count": 14,
     "metadata": {},
     "output_type": "execute_result"
    }
   ],
   "source": [
    "train_ratings_count = sum(1 for _ in trainset.all_ratings())\n",
    "(trainset.all_ratings()),len(testset)"
   ]
  },
  {
   "cell_type": "code",
   "execution_count": 15,
   "id": "4a9e0f51-8996-41c0-9b5a-7474fd69a4ea",
   "metadata": {},
   "outputs": [
    {
     "name": "stdout",
     "output_type": "stream",
     "text": [
      "Train size: 800167\n",
      "Test size: 200042\n"
     ]
    }
   ],
   "source": [
    "\n",
    "print(f\"Train size: {train_ratings_count}\")\n",
    "print(f\"Test size: {len(testset)}\")"
   ]
  },
  {
   "cell_type": "code",
   "execution_count": 16,
   "id": "7f48b757-960a-47aa-9415-b3c31dea6752",
   "metadata": {},
   "outputs": [],
   "source": [
    "#训练 svd"
   ]
  },
  {
   "cell_type": "code",
   "execution_count": 17,
   "id": "07325774-dd09-43d1-9d0d-7e9c6dbef240",
   "metadata": {},
   "outputs": [
    {
     "name": "stdout",
     "output_type": "stream",
     "text": [
      "Evaluating RMSE, MAE of algorithm SVD on 3 split(s).\n",
      "\n",
      "                  Fold 1  Fold 2  Fold 3  Mean    Std     \n",
      "RMSE (testset)    0.8822  0.8831  0.8839  0.8831  0.0007  \n",
      "MAE (testset)     0.6942  0.6951  0.6950  0.6947  0.0004  \n",
      "Fit time          3.35    3.16    3.45    3.32    0.12    \n",
      "Test time         1.47    1.46    1.61    1.51    0.07    \n"
     ]
    },
    {
     "data": {
      "text/plain": [
       "{'test_rmse': array([0.88217523, 0.88310089, 0.88390952]),\n",
       " 'test_mae': array([0.694161  , 0.69506549, 0.6949529 ]),\n",
       " 'fit_time': (3.353254795074463, 3.1630747318267822, 3.4473540782928467),\n",
       " 'test_time': (1.4732820987701416, 1.4607419967651367, 1.6050329208374023)}"
      ]
     },
     "execution_count": 17,
     "metadata": {},
     "output_type": "execute_result"
    }
   ],
   "source": [
    "from surprise import SVD\n",
    "from surprise.model_selection import cross_validate\n",
    "\n",
    "# 交叉验证评估 SVD 模型\n",
    "algo = SVD(n_factors=50, n_epochs=20, reg_all=0.02, random_state=42)\n",
    "cv = cross_validate(algo, data, measures=['RMSE','MAE'], cv=3, verbose=True)\n",
    "cv\n"
   ]
  },
  {
   "cell_type": "code",
   "execution_count": null,
   "id": "9e2056ae-af26-435c-bac8-0243af935427",
   "metadata": {},
   "outputs": [],
   "source": []
  },
  {
   "cell_type": "code",
   "execution_count": 18,
   "id": "c8dc3b68-3445-4bc3-adce-cc48b33e01f9",
   "metadata": {},
   "outputs": [],
   "source": [
    "# train/test evaluation"
   ]
  },
  {
   "cell_type": "code",
   "execution_count": 19,
   "id": "20c931d4-6af6-4c46-8c8e-0bdd10932d4c",
   "metadata": {},
   "outputs": [
    {
     "name": "stdout",
     "output_type": "stream",
     "text": [
      "RMSE: 0.8706\n",
      "MAE:  0.6839\n",
      "Final Evaluation — RMSE: 0.8706, MAE: 0.6839\n"
     ]
    }
   ],
   "source": [
    "from surprise import accuracy\n",
    "\n",
    "# 用全局 SVD 模型重新训练\n",
    "algo = SVD(n_factors=50, n_epochs=20, reg_all=0.02, random_state=42)\n",
    "algo.fit(trainset)\n",
    "\n",
    "# 在测试集上预测\n",
    "predictions = algo.test(testset)\n",
    "\n",
    "# 计算 RMSE / MAE\n",
    "rmse = accuracy.rmse(predictions)\n",
    "mae = accuracy.mae(predictions)\n",
    "\n",
    "print(f\"Final Evaluation — RMSE: {rmse:.4f}, MAE: {mae:.4f}\")"
   ]
  },
  {
   "cell_type": "code",
   "execution_count": null,
   "id": "75727b8d-c0bf-42f8-9fcb-31f3c6b7c8cf",
   "metadata": {},
   "outputs": [],
   "source": []
  },
  {
   "cell_type": "code",
   "execution_count": 20,
   "id": "d050439b-eb9d-41ed-a9a1-c9ebd0903e3c",
   "metadata": {},
   "outputs": [],
   "source": [
    "# 为指定用户生成 Top-N 推荐"
   ]
  },
  {
   "cell_type": "code",
   "execution_count": 21,
   "id": "86ce1964-c09c-4b74-9e05-3f3718652a48",
   "metadata": {},
   "outputs": [
    {
     "data": {
      "text/html": [
       "<div>\n",
       "<style scoped>\n",
       "    .dataframe tbody tr th:only-of-type {\n",
       "        vertical-align: middle;\n",
       "    }\n",
       "\n",
       "    .dataframe tbody tr th {\n",
       "        vertical-align: top;\n",
       "    }\n",
       "\n",
       "    .dataframe thead th {\n",
       "        text-align: right;\n",
       "    }\n",
       "</style>\n",
       "<table border=\"1\" class=\"dataframe\">\n",
       "  <thead>\n",
       "    <tr style=\"text-align: right;\">\n",
       "      <th></th>\n",
       "      <th>title</th>\n",
       "      <th>genres</th>\n",
       "      <th>movieId</th>\n",
       "      <th>est</th>\n",
       "    </tr>\n",
       "  </thead>\n",
       "  <tbody>\n",
       "    <tr>\n",
       "      <th>0</th>\n",
       "      <td>Shawshank Redemption, The (1994)</td>\n",
       "      <td>Drama</td>\n",
       "      <td>318</td>\n",
       "      <td>4.996461</td>\n",
       "    </tr>\n",
       "    <tr>\n",
       "      <th>1</th>\n",
       "      <td>Silence of the Lambs, The (1991)</td>\n",
       "      <td>Drama|Thriller</td>\n",
       "      <td>593</td>\n",
       "      <td>4.912123</td>\n",
       "    </tr>\n",
       "    <tr>\n",
       "      <th>2</th>\n",
       "      <td>Sanjuro (1962)</td>\n",
       "      <td>Action|Adventure</td>\n",
       "      <td>2905</td>\n",
       "      <td>4.902345</td>\n",
       "    </tr>\n",
       "    <tr>\n",
       "      <th>3</th>\n",
       "      <td>Seven Samurai (The Magnificent Seven) (Shichin...</td>\n",
       "      <td>Action|Drama</td>\n",
       "      <td>2019</td>\n",
       "      <td>4.883954</td>\n",
       "    </tr>\n",
       "    <tr>\n",
       "      <th>4</th>\n",
       "      <td>Third Man, The (1949)</td>\n",
       "      <td>Mystery|Thriller</td>\n",
       "      <td>1212</td>\n",
       "      <td>4.865285</td>\n",
       "    </tr>\n",
       "    <tr>\n",
       "      <th>5</th>\n",
       "      <td>Bridge on the River Kwai, The (1957)</td>\n",
       "      <td>Drama|War</td>\n",
       "      <td>1250</td>\n",
       "      <td>4.847158</td>\n",
       "    </tr>\n",
       "    <tr>\n",
       "      <th>6</th>\n",
       "      <td>Rear Window (1954)</td>\n",
       "      <td>Mystery|Thriller</td>\n",
       "      <td>904</td>\n",
       "      <td>4.826586</td>\n",
       "    </tr>\n",
       "    <tr>\n",
       "      <th>7</th>\n",
       "      <td>Conformist, The (Il Conformista) (1970)</td>\n",
       "      <td>Drama</td>\n",
       "      <td>2925</td>\n",
       "      <td>4.820050</td>\n",
       "    </tr>\n",
       "    <tr>\n",
       "      <th>8</th>\n",
       "      <td>Pulp Fiction (1994)</td>\n",
       "      <td>Crime|Drama</td>\n",
       "      <td>296</td>\n",
       "      <td>4.818425</td>\n",
       "    </tr>\n",
       "    <tr>\n",
       "      <th>9</th>\n",
       "      <td>Casablanca (1942)</td>\n",
       "      <td>Drama|Romance|War</td>\n",
       "      <td>912</td>\n",
       "      <td>4.810864</td>\n",
       "    </tr>\n",
       "  </tbody>\n",
       "</table>\n",
       "</div>"
      ],
      "text/plain": [
       "                                               title             genres  \\\n",
       "0                   Shawshank Redemption, The (1994)              Drama   \n",
       "1                   Silence of the Lambs, The (1991)     Drama|Thriller   \n",
       "2                                     Sanjuro (1962)   Action|Adventure   \n",
       "3  Seven Samurai (The Magnificent Seven) (Shichin...       Action|Drama   \n",
       "4                              Third Man, The (1949)   Mystery|Thriller   \n",
       "5               Bridge on the River Kwai, The (1957)          Drama|War   \n",
       "6                                 Rear Window (1954)   Mystery|Thriller   \n",
       "7            Conformist, The (Il Conformista) (1970)              Drama   \n",
       "8                                Pulp Fiction (1994)        Crime|Drama   \n",
       "9                                  Casablanca (1942)  Drama|Romance|War   \n",
       "\n",
       "   movieId       est  \n",
       "0      318  4.996461  \n",
       "1      593  4.912123  \n",
       "2     2905  4.902345  \n",
       "3     2019  4.883954  \n",
       "4     1212  4.865285  \n",
       "5     1250  4.847158  \n",
       "6      904  4.826586  \n",
       "7     2925  4.820050  \n",
       "8      296  4.818425  \n",
       "9      912  4.810864  "
      ]
     },
     "execution_count": 21,
     "metadata": {},
     "output_type": "execute_result"
    }
   ],
   "source": [
    "import numpy as np\n",
    "import pandas as pd\n",
    "\n",
    "# 假设你已经有以下对象：\n",
    "# - algo: 训练好的 SVD\n",
    "# - trainset, testset: Surprise 的数据集\n",
    "# - ratings, movies: 原始的 pandas DataFrame（在 Phase 2 读过）\n",
    "\n",
    "def recommend_topn_for_user(algo, trainset, user_raw_id, N=10):\n",
    "    \"\"\"\n",
    "    给原始用户ID（raw id，比如 1、2、3……）推荐 Top-N 电影（排除看过的）。\n",
    "    返回 DataFrame: [movieId, est, title, genres]\n",
    "    \"\"\"\n",
    "    # surprise 内部是 inner id，这里把 raw -> inner\n",
    "    try:\n",
    "        user_inner_id = trainset.to_inner_uid(user_raw_id)\n",
    "    except ValueError:\n",
    "        # 冷启动用户：训练集中没见过\n",
    "        # 简单策略：推荐最热门或高评分-贝叶斯平均的电影（此处先给空）\n",
    "        return pd.DataFrame(columns=[\"movieId\", \"est\", \"title\", \"genres\"])\n",
    "\n",
    "    # 该用户已看过的电影（inner ids）\n",
    "    seen_inner_items = set(j for (j, _) in trainset.ur[user_inner_id])\n",
    "    # 所有 inner items\n",
    "    all_inner_items = set(range(trainset.n_items))\n",
    "    # 待候选 = 未看过\n",
    "    cand_inner_items = list(all_inner_items - seen_inner_items)\n",
    "\n",
    "    # 预测每个候选电影的评分\n",
    "    preds = []\n",
    "    for inner_iid in cand_inner_items:\n",
    "        raw_iid = trainset.to_raw_iid(inner_iid)  # 转回原始 movieId（字符串）\n",
    "        est = algo.predict(user_raw_id, raw_iid).est\n",
    "        preds.append((int(raw_iid), est))\n",
    "\n",
    "    # Top-N\n",
    "    preds.sort(key=lambda x: x[1], reverse=True)\n",
    "    topn = preds[:N]\n",
    "\n",
    "    # 拼电影信息\n",
    "    topn_df = pd.DataFrame(topn, columns=[\"movieId\", \"est\"])\n",
    "    out = topn_df.merge(movies[[\"movieId\", \"title\", \"genres\"]], on=\"movieId\", how=\"left\")\n",
    "    # 排序美化\n",
    "    out = out[[\"title\", \"genres\", \"movieId\", \"est\"]].sort_values(\"est\", ascending=False).reset_index(drop=True)\n",
    "    return out\n",
    "\n",
    "# 示例：给用户 1 推荐 Top-10\n",
    "top10_u1 = recommend_topn_for_user(algo, trainset, user_raw_id=1, N=10)\n",
    "top10_u1"
   ]
  },
  {
   "cell_type": "code",
   "execution_count": 22,
   "id": "eadf186e-e93e-427c-b5f4-c70321bc9252",
   "metadata": {},
   "outputs": [
    {
     "name": "stdout",
     "output_type": "stream",
     "text": [
      "✅ Saved model to ../models/svd_model.pkl\n",
      "✅ Saved bayesian fallback to ../models/pop_fallback.csv\n"
     ]
    }
   ],
   "source": [
    "import pandas as pd, os\n",
    "\n",
    "# 确保模型文件夹存在\n",
    "os.makedirs(\"../models\", exist_ok=True)\n",
    "\n",
    "# === 保存 SVD 模型 ===\n",
    "import joblib\n",
    "joblib.dump(algo, \"../models/svd_model.pkl\")\n",
    "print(\"✅ Saved model to ../models/svd_model.pkl\")\n",
    "\n",
    "# === 生成贝叶斯平均回退表 ===\n",
    "C = ratings[\"rating\"].mean()\n",
    "m = 50  # 最小投票阈值，可调\n",
    "movie_stats = (\n",
    "    ratings.groupby(\"movieId\")[\"rating\"]\n",
    "           .agg(pop_count=\"size\", mean_rating=\"mean\")\n",
    "           .reset_index()\n",
    ")\n",
    "movie_stats[\"bayes\"] = (\n",
    "    (movie_stats[\"pop_count\"] * movie_stats[\"mean_rating\"] + m * C)\n",
    "    / (movie_stats[\"pop_count\"] + m)\n",
    ")\n",
    "\n",
    "pop_fallback = (\n",
    "    movie_stats.merge(movies[[\"movieId\",\"title\",\"genres\"]], on=\"movieId\", how=\"left\")\n",
    "               .sort_values(\"bayes\", ascending=False)\n",
    ")\n",
    "\n",
    "pop_fallback.to_csv(\"../models/pop_fallback.csv\", index=False)\n",
    "print(\"✅ Saved bayesian fallback to ../models/pop_fallback.csv\")"
   ]
  },
  {
   "cell_type": "code",
   "execution_count": null,
   "id": "a0873f8f",
   "metadata": {},
   "outputs": [],
   "source": []
  }
 ],
 "metadata": {
  "kernelspec": {
   "display_name": "Python 3 (ipykernel)",
   "language": "python",
   "name": "python3"
  },
  "language_info": {
   "codemirror_mode": {
    "name": "ipython",
    "version": 3
   },
   "file_extension": ".py",
   "mimetype": "text/x-python",
   "name": "python",
   "nbconvert_exporter": "python",
   "pygments_lexer": "ipython3",
   "version": "3.9.12"
  }
 },
 "nbformat": 4,
 "nbformat_minor": 5
}
